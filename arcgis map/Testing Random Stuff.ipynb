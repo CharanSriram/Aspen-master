{
 "cells": [
  {
   "cell_type": "code",
   "execution_count": 5,
   "metadata": {},
   "outputs": [
    {
     "name": "stdout",
     "output_type": "stream",
     "text": [
      "[[35.042543, 12.0, 0.0, 0.0, 0.0, 0.0, 0.0, 0.0, 0.0, 0.0], [35.062648, 12.0, 0.0, 0.0, 0.0, 0.0, 0.0, 0.0, 0.0, 0.0], [35.082654, 12.0, 0.0, 0.0, 0.0, 0.0, 0.0, 0.0, 0.0, 0.0], [35.102551, 12.0, 0.0, 0.0, 0.0, 0.0, 0.0, 0.0, 0.0, 0.0], [35.12204, 12.0, 0.0, 0.0, 0.0, 0.0, 0.0, 0.0, 0.0, 0.0], [35.142053, 12.0, 0.0, 0.0, 0.0, 0.0, 0.0, 0.0, 0.0, 0.0], [35.161749, 12.0, 0.0, 0.0, 0.0, 0.0, 0.0, 0.0, 0.0, 0.0], [35.182654, 12.0, 0.0, 0.0, 0.0, 0.0, 0.0, 0.0, 0.0, 0.0]]\n",
      "0.14011099999999743\n"
     ]
    }
   ],
   "source": [
    "import numpy as np\n",
    "data = \"35.042543, 12.0, 0.0, 0.0, 0.0, 0.0, 0.0, 0.0, 0.0, 0, 35.062648, 12.0, 0.0, 0.0, 0.0, 0.0, 0.0, 0.0, 0.0, 0, 35.082654, 12.0, 0.0, 0.0, 0.0, 0.0, 0.0, 0.0, 0.0, 0, 35.102551, 12.0, 0.0, 0.0, 0.0, 0.0, 0.0, 0.0, 0.0, 0, 35.12204, 12.0, 0.0, 0.0, 0.0, 0.0, 0.0, 0.0, 0.0, 0, 35.142053, 12.0, 0.0, 0.0, 0.0, 0.0, 0.0, 0.0, 0.0, 0, 35.161749, 12.0, 0.0, 0.0, 0.0, 0.0, 0.0, 0.0, 0.0, 0, 35.182654, 12.0, 0.0, 0.0, 0.0, 0.0, 0.0, 0.0, 0.0, 0, ,\"\n",
    "data = data.split(\", \")\n",
    "# data = data[0:-1]\n",
    "# print(data)\n",
    "data_size = 10\n",
    "data = np.array([float(s) for s in data[0:-1]])\n",
    "# for s in data:\n",
    "#     print(s)\n",
    "#     float(s.replace(\",\",\"\"))\n",
    "data = (np.reshape(data, (-1, data_size))).tolist()\n",
    "num = data[-1][0] - data[0][0]\n",
    "print(data)\n",
    "print(num)\n",
    "#print(data_final)"
   ]
  },
  {
   "cell_type": "code",
   "execution_count": null,
   "metadata": {},
   "outputs": [],
   "source": [
    "import numpy as np\n",
    "import matplotlib.pyplot as plt\n",
    "import os\n",
    "import cv2\n",
    "from tqdm import tqdm\n",
    "\n",
    "DATADIR = \"X:/Datasets/PetImages\"\n",
    "\n",
    "CATEGORIES = [\"Dog\", \"Cat\"]\n",
    "\n",
    "for category in CATEGORIES:  # do dogs and cats\n",
    "    path = os.path.join(DATADIR,category)  # create path to dogs and cats\n",
    "    for img in os.listdir(path):  # iterate over each image per dogs and cats\n",
    "        img_array = cv2.imread(os.path.join(path,img) ,cv2.IMREAD_GRAYSCALE)  # convert to array\n",
    "        plt.imshow(img_array, cmap='gray')  # graph it\n",
    "        plt.show()  # display!\n",
    "\n",
    "        break  # we just want one for now so break\n",
    "    break  #...and one more!\n",
    "\n",
    "IMG_SIZE = 100\n",
    "\n",
    "new_array = cv2.resize(img_array, (IMG_SIZE, IMG_SIZE))\n",
    "plt.imshow(new_array, cmap='gray')\n",
    "plt.show()"
   ]
  },
  {
   "cell_type": "code",
   "execution_count": null,
   "metadata": {},
   "outputs": [],
   "source": [
    "import random\n",
    "training_data = []\n",
    "\n",
    "def create_training_data():\n",
    "    for category in CATEGORIES:  # do dogs and cats\n",
    "\n",
    "        path = os.path.join(DATADIR,category)  # create path to dogs and cats\n",
    "        class_num = CATEGORIES.index(category)  # get the classification  (0 or a 1). 0=dog 1=cat\n",
    "\n",
    "        for img in tqdm(os.listdir(path)):  # iterate over each image per dogs and cats\n",
    "            try:\n",
    "                img_array = cv2.imread(os.path.join(path,img) ,cv2.IMREAD_GRAYSCALE)  # convert to array\n",
    "                new_array = cv2.resize(img_array, (IMG_SIZE, IMG_SIZE))  # resize to normalize data size\n",
    "                training_data.append([new_array, class_num])  # add this to our training_data\n",
    "            except Exception as e:  # in the interest in keeping the output clean...\n",
    "                pass\n",
    "            #except OSError as e:\n",
    "            #    print(\"OSErrroBad img most likely\", e, os.path.join(path,img))\n",
    "            #except Exception as e:\n",
    "            #    print(\"general exception\", e, os.path.join(path,img))\n",
    "\n",
    "create_training_data()\n",
    "\n",
    "print(len(training_data))\n",
    "\n",
    "\n",
    "random.shuffle(training_data)"
   ]
  },
  {
   "cell_type": "code",
   "execution_count": null,
   "metadata": {},
   "outputs": [],
   "source": [
    "import pickle\n",
    "X = []\n",
    "y = []\n",
    "\n",
    "for features,label in training_data:\n",
    "    X.append(features)\n",
    "    y.append(label)\n",
    "\n",
    "print(X[0].reshape(-1, IMG_SIZE, IMG_SIZE, 1))\n",
    "\n",
    "X = np.array(X).reshape(-1, IMG_SIZE, IMG_SIZE, 1)\n",
    "\n",
    "\n",
    "pickle_out = open(\"X.pickle\",\"wb\")\n",
    "pickle.dump(X, pickle_out)\n",
    "pickle_out.close()\n",
    "\n",
    "pickle_out = open(\"y.pickle\",\"wb\")\n",
    "pickle.dump(y, pickle_out)\n",
    "pickle_out.close()"
   ]
  },
  {
   "cell_type": "code",
   "execution_count": 2,
   "metadata": {},
   "outputs": [
    {
     "ename": "FileNotFoundError",
     "evalue": "[Errno 2] No such file or directory: 'X.pickle'",
     "output_type": "error",
     "traceback": [
      "\u001b[1;31m---------------------------------------------------------------------------\u001b[0m",
      "\u001b[1;31mFileNotFoundError\u001b[0m                         Traceback (most recent call last)",
      "\u001b[1;32m<ipython-input-2-7b27f9cc14e8>\u001b[0m in \u001b[0;36m<module>\u001b[1;34m\u001b[0m\n\u001b[0;32m      7\u001b[0m \u001b[1;32mimport\u001b[0m \u001b[0mtime\u001b[0m\u001b[1;33m\u001b[0m\u001b[1;33m\u001b[0m\u001b[0m\n\u001b[0;32m      8\u001b[0m \u001b[1;33m\u001b[0m\u001b[0m\n\u001b[1;32m----> 9\u001b[1;33m \u001b[0mpickle_in\u001b[0m \u001b[1;33m=\u001b[0m \u001b[0mopen\u001b[0m\u001b[1;33m(\u001b[0m\u001b[1;34m\"X.pickle\"\u001b[0m\u001b[1;33m,\u001b[0m\u001b[1;34m\"rb\"\u001b[0m\u001b[1;33m)\u001b[0m\u001b[1;33m\u001b[0m\u001b[1;33m\u001b[0m\u001b[0m\n\u001b[0m\u001b[0;32m     10\u001b[0m \u001b[0mX\u001b[0m \u001b[1;33m=\u001b[0m \u001b[0mpickle\u001b[0m\u001b[1;33m.\u001b[0m\u001b[0mload\u001b[0m\u001b[1;33m(\u001b[0m\u001b[0mpickle_in\u001b[0m\u001b[1;33m)\u001b[0m\u001b[1;33m\u001b[0m\u001b[1;33m\u001b[0m\u001b[0m\n\u001b[0;32m     11\u001b[0m \u001b[1;33m\u001b[0m\u001b[0m\n",
      "\u001b[1;31mFileNotFoundError\u001b[0m: [Errno 2] No such file or directory: 'X.pickle'"
     ]
    }
   ],
   "source": [
    "from tensorflow.keras.models import Sequential\n",
    "from tensorflow.keras.layers import Dense, Dropout, Activation, Flatten\n",
    "from tensorflow.keras.layers import Conv2D, MaxPooling2D\n",
    "# more info on callbakcs: https://keras.io/callbacks/ model saver is cool too.\n",
    "from tensorflow.keras.callbacks import TensorBoard\n",
    "import pickle\n",
    "import time\n",
    "\n",
    "pickle_in = open(\"X.pickle\",\"rb\")\n",
    "X = pickle.load(pickle_in)\n",
    "\n",
    "pickle_in = open(\"y.pickle\",\"rb\")\n",
    "y = pickle.load(pickle_in)\n",
    "\n",
    "X = X/255.0\n",
    "\n",
    "dense_layers = [0]\n",
    "layer_sizes = [64]\n",
    "conv_layers = [3]\n",
    "\n",
    "for dense_layer in dense_layers:\n",
    "    for layer_size in layer_sizes:\n",
    "        for conv_layer in conv_layers:\n",
    "            NAME = \"{}-conv-{}-nodes-{}-dense-{}\".format(conv_layer, layer_size, dense_layer, int(time.time()))\n",
    "            print(NAME)\n",
    "\n",
    "            model = Sequential()\n",
    "\n",
    "            model.add(Conv2D(layer_size, (3, 3), input_shape=X.shape[1:]))\n",
    "            model.add(Activation('relu'))\n",
    "            model.add(MaxPooling2D(pool_size=(2, 2)))\n",
    "\n",
    "            for l in range(conv_layer-1):\n",
    "                model.add(Conv2D(layer_size, (3, 3)))\n",
    "                model.add(Activation('relu'))\n",
    "                model.add(MaxPooling2D(pool_size=(2, 2)))\n",
    "\n",
    "            model.add(Flatten())\n",
    "\n",
    "            for _ in range(dense_layer):\n",
    "                model.add(Dense(layer_size))\n",
    "                model.add(Activation('relu'))\n",
    "\n",
    "            model.add(Dense(1))\n",
    "            model.add(Activation('sigmoid'))\n",
    "\n",
    "            tensorboard = TensorBoard(log_dir=\"logs/{}\".format(NAME))\n",
    "\n",
    "            model.compile(loss='binary_crossentropy',\n",
    "                          optimizer='adam',\n",
    "                          metrics=['accuracy'],\n",
    "                          )\n",
    "\n",
    "            model.fit(X, y,\n",
    "                      batch_size=32,\n",
    "                      epochs=10,\n",
    "                      validation_split=0.3,\n",
    "                      callbacks=[tensorboard])\n",
    "\n",
    "model.save('64x3-CNN.model')"
   ]
  },
  {
   "cell_type": "code",
   "execution_count": null,
   "metadata": {},
   "outputs": [],
   "source": [
    "import cv2\n",
    "import tensorflow as tf\n",
    "\n",
    "\n",
    "def getfile(filepath):\n",
    "    IMG_SIZE = 70\n",
    "    img_array = cv2.imread(filepath, cv2.IMREAD_GRAYSCALE)\n",
    "    new_array = cv2.resize(img_array, (IMG_SIZE, IMG_SIZE))\n",
    "    \n",
    "    return\n",
    "\n",
    "model = tf.keras.models.load_model(\"\")\n",
    "prediction = model.predict()\n",
    "print(prediction)"
   ]
  },
  {
   "cell_type": "code",
   "execution_count": 28,
   "metadata": {},
   "outputs": [
    {
     "ename": "TypeError",
     "evalue": "can only concatenate str (not \"int\") to str",
     "output_type": "error",
     "traceback": [
      "\u001b[1;31m---------------------------------------------------------------------------\u001b[0m",
      "\u001b[1;31mTypeError\u001b[0m                                 Traceback (most recent call last)",
      "\u001b[1;32m<ipython-input-28-8aca910dfd9f>\u001b[0m in \u001b[0;36m<module>\u001b[1;34m\u001b[0m\n\u001b[0;32m     25\u001b[0m \u001b[1;33m\u001b[0m\u001b[0m\n\u001b[0;32m     26\u001b[0m \u001b[1;33m\u001b[0m\u001b[0m\n\u001b[1;32m---> 27\u001b[1;33m \u001b[0msearch_diy\u001b[0m\u001b[1;33m(\u001b[0m\u001b[1;36m5\u001b[0m\u001b[1;33m)\u001b[0m\u001b[1;33m\u001b[0m\u001b[1;33m\u001b[0m\u001b[0m\n\u001b[0m",
      "\u001b[1;32m<ipython-input-28-8aca910dfd9f>\u001b[0m in \u001b[0;36msearch_diy\u001b[1;34m(material, results, waittime)\u001b[0m\n\u001b[0;32m      8\u001b[0m \u001b[1;33m\u001b[0m\u001b[0m\n\u001b[0;32m      9\u001b[0m     \u001b[1;31m#appends the material to the keywords\u001b[0m\u001b[1;33m\u001b[0m\u001b[1;33m\u001b[0m\u001b[1;33m\u001b[0m\u001b[0m\n\u001b[1;32m---> 10\u001b[1;33m     \u001b[0mterms\u001b[0m \u001b[1;33m=\u001b[0m \u001b[1;33m[\u001b[0m\u001b[1;33m(\u001b[0m\u001b[0ms\u001b[0m \u001b[1;33m+\u001b[0m \u001b[0mmaterial\u001b[0m\u001b[1;33m)\u001b[0m \u001b[1;32mfor\u001b[0m \u001b[0ms\u001b[0m \u001b[1;32min\u001b[0m \u001b[0mquery\u001b[0m\u001b[1;33m]\u001b[0m\u001b[1;33m\u001b[0m\u001b[1;33m\u001b[0m\u001b[0m\n\u001b[0m\u001b[0;32m     11\u001b[0m \u001b[1;33m\u001b[0m\u001b[0m\n\u001b[0;32m     12\u001b[0m     \u001b[0mqueries_per_search\u001b[0m \u001b[1;33m=\u001b[0m \u001b[0mresults\u001b[0m\u001b[1;33m/\u001b[0m\u001b[0mlen\u001b[0m\u001b[1;33m(\u001b[0m\u001b[0mquery\u001b[0m\u001b[1;33m)\u001b[0m\u001b[1;33m\u001b[0m\u001b[1;33m\u001b[0m\u001b[0m\n",
      "\u001b[1;32m<ipython-input-28-8aca910dfd9f>\u001b[0m in \u001b[0;36m<listcomp>\u001b[1;34m(.0)\u001b[0m\n\u001b[0;32m      8\u001b[0m \u001b[1;33m\u001b[0m\u001b[0m\n\u001b[0;32m      9\u001b[0m     \u001b[1;31m#appends the material to the keywords\u001b[0m\u001b[1;33m\u001b[0m\u001b[1;33m\u001b[0m\u001b[1;33m\u001b[0m\u001b[0m\n\u001b[1;32m---> 10\u001b[1;33m     \u001b[0mterms\u001b[0m \u001b[1;33m=\u001b[0m \u001b[1;33m[\u001b[0m\u001b[1;33m(\u001b[0m\u001b[0ms\u001b[0m \u001b[1;33m+\u001b[0m \u001b[0mmaterial\u001b[0m\u001b[1;33m)\u001b[0m \u001b[1;32mfor\u001b[0m \u001b[0ms\u001b[0m \u001b[1;32min\u001b[0m \u001b[0mquery\u001b[0m\u001b[1;33m]\u001b[0m\u001b[1;33m\u001b[0m\u001b[1;33m\u001b[0m\u001b[0m\n\u001b[0m\u001b[0;32m     11\u001b[0m \u001b[1;33m\u001b[0m\u001b[0m\n\u001b[0;32m     12\u001b[0m     \u001b[0mqueries_per_search\u001b[0m \u001b[1;33m=\u001b[0m \u001b[0mresults\u001b[0m\u001b[1;33m/\u001b[0m\u001b[0mlen\u001b[0m\u001b[1;33m(\u001b[0m\u001b[0mquery\u001b[0m\u001b[1;33m)\u001b[0m\u001b[1;33m\u001b[0m\u001b[1;33m\u001b[0m\u001b[0m\n",
      "\u001b[1;31mTypeError\u001b[0m: can only concatenate str (not \"int\") to str"
     ]
    }
   ],
   "source": [
    "from googlesearch import search \n",
    "import time\n",
    "# google keywords to search\n",
    "query = [\"diy \", \"reuse \"]\n",
    "\n",
    "def search_diy(material: str, results: int = 4, waittime: int = 2):\n",
    "    global query\n",
    "    \n",
    "    #appends the material to the keywords\n",
    "    terms = [(s + material) for s in query]\n",
    "    \n",
    "    queries_per_search = results/len(query)\n",
    "    \n",
    "    # quick check\n",
    "    if queries_per_search < 0:\n",
    "        raise ValueError(\"This will yield no search results\")\n",
    "        \n",
    "    search_results = []\n",
    "    for i in terms:\n",
    "        for j in search(i, tld='com', lang='en', num= results, stop= results, pause=waittime): \n",
    "            search_results.append(j)\n",
    "    return search_results\n",
    "\n",
    "\n",
    "\n",
    "\n",
    "search_diy(5)\n"
   ]
  },
  {
   "cell_type": "code",
   "execution_count": 5,
   "metadata": {},
   "outputs": [],
   "source": [
    "from googlesearch import search"
   ]
  },
  {
   "cell_type": "code",
   "execution_count": 57,
   "metadata": {},
   "outputs": [
    {
     "name": "stdout",
     "output_type": "stream",
     "text": [
      "{'Longitude': [-97.03, -98.84, -99.79, -95.47, -98.43, -95.47, -95.65, -100.6, -97.12, -100.14, -99.12, -97.51, -99.45, -96.1, -95.4, -96.21, -96.89, -98.53, -95.4, -98.27, -95.67, -100.67, -95.45, -97.26, -95.09, -97.19, -95.55, -100.72, -95.79, -100.35, -95.3, -97.69, -97.05, -97.22, -98.55, -99.42, -98.16, -97.97, -96.23, -100.51, -98.18, -97.57, -95.92, -95.1, -99.57, -98.41, -95.6, -100.6, -97.22, -99.92, -100.38, -95.04, -100.35, -96.73, -95.96, -97.87, -99.14, -95.0, -99.1, -98.26, -100.73, -95.51, -96.46, -97.11, -98.63, -97.41, -99.04, -98.09, -97.33, -100.12, -99.12, -96.72, -99.49, -99.22, -95.26, -100.78, -100.57, -95.89, -98.26, -99.93, -96.5, -100.17, -97.56, -96.1, -97.95, -96.29, -96.44, -97.99, -98.48, -99.03, -97.0, -98.92, -95.86, -96.06, -96.41, -97.96, -98.12, -96.16, -100.92, -100.63, -97.87, -100.64, -96.75, -96.4, -96.81, -95.35, -96.41, -98.19, -99.68, -96.57, -100.88, -97.12, -100.29, -96.69, -95.72, -98.54, -95.82, -96.57, -96.18, -98.15, -95.09, -98.97, -95.58, -96.08, -95.18, -97.55, -98.49, -100.17, -97.55, -96.0, -97.42, -99.96, -99.23, -99.94, -95.81, -99.92, -95.43, -100.71, -98.72, -98.11, -98.94, -99.72, -97.68, -95.78, -100.57, -96.24, -96.79, -100.59, -98.71, -98.92, -98.58, -96.82, -95.41, -97.32, -100.47, -95.67, -95.23, -97.95, -95.15, -96.63, -100.85, -99.83, -98.61, -99.15, -95.68, -95.69, -100.51, -99.02, -95.69, -95.85, -95.17, -100.3, -96.71, -99.54, -98.7, -100.45, -96.65, -98.14, -96.64, -96.8, -97.78, -96.16, -97.99, -100.99, -100.91, -96.37, -97.8, -98.27, -97.18, -100.02, -99.76, -96.36, -95.0, -100.81, -96.31, -100.69, -97.81, -97.8, -100.36, -99.93, -99.81, -98.8, -96.32, -97.72, -100.14, -97.76, -95.53, -100.74, -99.37, -100.71, -97.71, -98.62, -99.98, -98.6, -99.57, -98.98, -98.57, -100.96, -95.82, -95.33, -99.76, -99.37, -95.87, -97.53, -96.74, -100.14, -97.02, -97.17, -96.54, -100.31, -96.55, -96.51, -98.35, -96.13, -95.45, -98.67, -97.33, -97.41, -97.53, -99.7, -99.81, -95.7, -95.49, -96.63, -100.4, -97.38, -97.41, -100.79, -96.78, -100.28, -100.4, -95.88, -100.27, -99.82, -97.31, -96.01, -95.07, -96.3, -96.57, -96.26, -96.97, -96.64, -96.83, -96.77, -99.52, -100.22, -99.33, -100.36, -96.3, -97.95, -98.99, -99.11, -99.04, -96.38, -95.57, -98.02, -95.07, -96.6, -98.08, -99.73, -97.31, -96.29, -98.16, -99.11, -97.05, -98.22, -100.8, -99.76, -100.2, -100.46, -99.68, -100.72, -99.18, -98.43, -99.79, -98.68, -95.39, -97.05, -100.42, -100.88, -97.36, -98.0, -96.71, -99.24, -95.75, -97.42, -100.34, -99.27, -98.34, -99.69, -95.98, -95.28, -96.44, -96.04, -96.09, -98.5, -98.27, -100.21, -97.01, -97.73, -98.87, -99.82, -100.32, -98.62, -99.76, -96.64, -99.59, -99.84, -100.16, -97.43, -99.7, -100.33, -97.6, -96.23, -100.62, -96.07, -100.75, -95.21, -96.45, -100.84, -96.07, -99.03, -99.53, -99.1, -99.0, -99.53, -95.36, -99.5, -96.41, -95.57, -97.86, -98.23, -96.26, -97.59, -98.5, -100.46, -97.05, -97.49, -99.86, -98.36, -96.25, -99.32, -99.88, -100.6, -100.13, -96.0, -100.11, -100.83, -98.37, -96.51, -96.33, -97.14, -95.15, -99.78, -100.16, -96.96, -96.17, -100.15, -95.05, -100.91, -98.88, -96.71, -98.08, -95.18, -95.35, -100.87, -96.42, -96.78, -99.35, -95.64, -96.5, -97.03, -96.37, -99.72, -99.08, -96.01, -96.84, -99.52, -97.39, -98.27, -100.2, -98.97, -100.44, -96.52, -95.96, -98.7, -97.21, -98.36, -96.01, -95.2, -96.31, -98.12, -100.92, -97.89, -99.82, -95.61, -100.14, -96.69, -97.91, -97.57, -98.65, -98.0, -96.96, -99.31, -97.89, -97.2, -97.73, -95.77, -100.25, -99.54, -97.35, -95.01, -100.54, -100.49, -97.11, -97.53, -100.41, -99.04, -98.4, -99.64, -95.84, -99.95, -100.66, -96.72, -95.81, -96.57, -99.08, -97.7, -98.92, -96.38, -95.56, -99.77, -97.47, -100.16, -100.69, -98.64, -97.17, -98.15, -99.5, -98.38, -95.03, -97.26, -97.64, -97.18, -95.64, -100.88, -97.05, -96.58, -96.44, -95.07, -98.13, -97.77, -97.58, -100.44, -98.76, -100.02, -96.09, -95.47, -98.76, -99.05, -95.59, -99.26, -98.75, -99.18, -98.86, -95.54, -99.97, -98.16, -99.35, -95.54, -99.12, -99.52, -100.48, -99.59, -99.77, -95.02, -100.56, -96.66, -100.53, -95.06], 'Latitude': [33.48, 33.07, 33.19, 31.9, 31.1, 33.26, 33.01, 33.06, 31.57, 32.9, 32.54, 33.65, 31.39, 33.9, 32.61, 32.22, 32.45, 32.34, 31.4, 32.2, 31.04, 32.25, 31.27, 32.54, 31.96, 32.7, 31.95, 32.52, 31.23, 32.26, 32.47, 32.49, 32.05, 33.05, 32.57, 32.47, 31.62, 32.39, 32.5, 33.46, 31.58, 33.8, 32.78, 32.24, 31.46, 33.34, 32.23, 32.62, 31.19, 33.48, 31.85, 33.5, 33.36, 33.34, 31.09, 32.72, 32.34, 33.9, 32.96, 33.38, 33.25, 33.95, 32.54, 32.95, 31.51, 31.99, 31.43, 33.48, 33.57, 32.49, 32.21, 31.93, 31.33, 32.95, 32.34, 32.24, 31.34, 33.6, 31.56, 33.43, 32.68, 33.02, 31.38, 31.01, 33.13, 32.48, 33.09, 31.99, 31.22, 31.32, 31.65, 33.82, 32.55, 31.11, 33.38, 32.61, 31.52, 31.95, 33.36, 33.46, 33.62, 33.93, 33.42, 33.74, 32.19, 32.48, 31.62, 32.56, 33.7, 31.83, 33.49, 33.58, 31.33, 33.08, 31.26, 32.57, 33.76, 33.77, 33.92, 32.06, 33.33, 32.69, 33.65, 31.08, 33.41, 32.49, 33.96, 33.91, 31.61, 32.74, 33.89, 33.71, 33.65, 31.61, 32.81, 33.05, 32.27, 31.56, 31.98, 32.47, 31.87, 33.19, 33.37, 33.57, 33.04, 31.07, 31.94, 31.82, 31.8, 33.55, 31.33, 32.03, 31.37, 32.38, 33.06, 33.59, 31.59, 31.2, 32.97, 31.69, 33.79, 32.85, 33.54, 31.98, 33.92, 31.91, 31.37, 32.88, 32.41, 32.36, 33.1, 32.3, 31.19, 33.38, 31.56, 33.66, 33.95, 32.43, 33.34, 31.56, 31.2, 31.22, 31.59, 32.15, 33.26, 32.56, 33.11, 31.44, 31.25, 32.69, 31.22, 31.18, 32.34, 32.57, 32.98, 32.95, 32.97, 33.09, 33.99, 33.47, 31.34, 31.55, 32.8, 33.15, 33.66, 33.93, 32.24, 33.8, 31.57, 32.78, 32.49, 32.17, 31.04, 31.71, 33.99, 33.35, 33.18, 32.78, 33.15, 31.35, 31.75, 34.0, 32.16, 31.46, 32.59, 32.38, 31.27, 32.56, 32.34, 32.44, 32.39, 33.45, 33.09, 32.31, 33.11, 31.69, 32.66, 32.85, 32.33, 31.23, 33.0, 33.58, 32.17, 32.39, 32.28, 32.52, 32.55, 31.35, 33.3, 33.08, 31.56, 32.42, 32.34, 31.95, 32.86, 33.15, 31.02, 32.7, 32.81, 33.42, 31.69, 31.63, 32.79, 32.18, 32.91, 31.49, 33.97, 31.26, 32.26, 31.4, 32.58, 31.43, 33.5, 32.91, 32.6, 33.16, 33.21, 33.01, 32.3, 33.52, 33.16, 32.84, 31.25, 31.11, 33.12, 32.64, 33.55, 32.17, 32.17, 33.15, 32.86, 33.82, 31.94, 31.17, 33.77, 31.41, 33.77, 31.44, 33.77, 33.69, 31.36, 31.61, 31.14, 32.2, 31.92, 32.23, 31.67, 32.71, 32.02, 32.16, 31.17, 33.7, 33.18, 31.13, 31.02, 32.48, 31.72, 33.65, 32.29, 32.4, 33.77, 32.32, 33.25, 32.65, 33.44, 31.38, 32.67, 33.24, 32.56, 31.45, 32.41, 33.28, 31.89, 33.36, 33.74, 33.09, 32.52, 33.93, 33.44, 33.19, 32.79, 31.69, 31.99, 32.77, 33.19, 33.21, 32.53, 33.37, 33.0, 31.78, 32.67, 31.47, 31.14, 31.44, 32.47, 32.59, 31.26, 31.89, 31.18, 31.72, 33.77, 33.91, 33.23, 32.17, 31.69, 33.64, 31.07, 33.99, 32.46, 31.44, 31.14, 31.93, 32.85, 31.46, 33.46, 31.09, 31.21, 33.34, 31.82, 31.36, 32.06, 32.44, 31.7, 31.21, 32.11, 32.21, 32.06, 32.27, 31.91, 32.68, 32.38, 31.07, 33.0, 32.34, 31.64, 31.64, 32.15, 31.16, 33.01, 31.66, 33.8, 32.1, 32.97, 33.71, 32.61, 33.66, 31.46, 33.66, 31.56, 33.07, 31.9, 32.96, 32.83, 32.52, 33.73, 33.38, 31.35, 33.74, 31.18, 33.57, 32.34, 32.12, 31.71, 31.9, 33.93, 31.91, 32.29, 32.34, 31.52, 33.27, 32.78, 32.13, 32.36, 32.63, 31.85, 33.43, 32.05, 31.97, 33.7, 32.54, 31.71, 32.39, 31.21, 31.16, 32.74, 32.16, 31.09, 31.12, 32.46, 33.02, 32.26, 32.48, 33.48, 32.93, 33.88, 31.09, 31.65, 33.93, 33.4, 32.98, 33.8, 33.33, 31.28, 32.87, 33.13, 31.37, 32.64, 31.49, 33.84, 32.87, 32.54, 32.5, 33.18, 31.57, 32.41, 33.69, 32.9, 33.22, 32.93, 33.23, 32.43, 31.96, 32.16, 31.08, 31.29, 32.65, 32.01, 33.15, 33.19, 32.6, 32.92, 31.62, 33.7, 33.29, 31.97, 33.33, 33.59, 32.6, 33.55, 31.9], 'Points': [67, 70, 68, 46, 69, 49, 20, 39, 3, 65, 16, 55, 49, 76, 12, 89, 76, 80, 41, 96, 88, 82, 84, 26, 8, 72, 65, 29, 67, 35, 32, 15, 76, 52, 47, 27, 41, 9, 72, 27, 35, 13, 11, 45, 84, 90, 96, 58, 20, 69, 62, 43, 33, 38, 34, 52, 40, 12, 81, 46, 2, 87, 57, 80, 45, 86, 47, 78, 3, 82, 40, 44, 54, 2, 38, 46, 16, 37, 22, 98, 58, 19, 42, 73, 30, 20, 23, 83, 51, 5, 81, 53, 44, 43, 23, 96, 55, 39, 59, 62, 49, 73, 18, 49, 28, 70, 18, 47, 31, 58, 10, 65, 57, 3, 15, 87, 37, 23, 81, 66, 99, 22, 1, 96, 19, 73, 44, 57, 69, 87, 4, 6, 54, 83, 76, 21, 58, 34, 37, 58, 30, 100, 51, 40, 96, 2, 93, 75, 68, 88, 95, 75, 2, 27, 36, 78, 27, 50, 52, 58, 96, 7, 21, 21, 9, 83, 61, 15, 24, 15, 86, 12, 93, 35, 16, 46, 38, 58, 69, 78, 100, 70, 50, 52, 73, 25, 39, 14, 71, 76, 60, 85, 25, 31, 29, 87, 18, 21, 75, 47, 42, 2, 94, 80, 43, 1, 2, 38, 87, 5, 18, 75, 25, 35, 4, 33, 48, 27, 90, 49, 84, 49, 44, 76, 64, 6, 87, 18, 74, 21, 56, 28, 96, 27, 75, 19, 44, 15, 67, 87, 24, 36, 24, 69, 50, 15, 51, 14, 20, 20, 92, 69, 50, 3, 66, 44, 25, 15, 45, 15, 90, 70, 62, 86, 55, 85, 46, 56, 9, 4, 43, 10, 51, 81, 20, 50, 47, 69, 9, 35, 23, 41, 84, 94, 74, 63, 29, 55, 48, 93, 82, 1, 21, 22, 11, 42, 11, 73, 29, 53, 96, 45, 45, 17, 13, 85, 24, 61, 11, 83, 21, 61, 24, 34, 21, 9, 24, 95, 4, 46, 26, 11, 96, 50, 77, 29, 71, 19, 38, 100, 85, 48, 31, 51, 73, 12, 94, 8, 18, 8, 15, 29, 77, 70, 59, 56, 33, 30, 34, 78, 93, 8, 92, 73, 10, 48, 68, 61, 33, 11, 59, 8, 41, 77, 19, 39, 97, 78, 18, 87, 43, 59, 42, 42, 98, 34, 47, 26, 42, 79, 59, 56, 11, 40, 13, 65, 55, 3, 53, 90, 84, 70, 15, 61, 43, 56, 80, 29, 89, 30, 89, 66, 81, 39, 78, 25, 38, 80, 30, 8, 35, 25, 24, 29, 37, 9, 80, 52, 51, 7, 27, 49, 56, 25, 56, 93, 95, 69, 64, 75, 69, 73, 48, 72, 6, 2, 75, 62, 65, 84, 25, 81, 59, 65, 86, 91, 80, 86, 47, 47, 11, 29, 78, 75, 8, 67, 71, 77, 89, 63, 73, 78, 52, 14, 54, 24, 30, 46, 100, 4, 32, 84, 92, 40, 4, 75, 90, 100, 48, 87, 6, 29, 89, 26, 73, 52, 82, 6, 67, 86, 10, 20, 46, 3, 55, 49, 100, 10, 55, 29]}\n"
     ]
    }
   ],
   "source": [
    "import pandas as pd\n",
    "import random\n",
    "import numpy as np\n",
    "\n",
    "starting_coords = {\"longitude\": -96.79,\n",
    "                   \"latitude\" : 32.77\n",
    "                  }\n",
    "\n",
    "num_samples = 500\n",
    "latitude_list = []\n",
    "longitude_list = []\n",
    "point_list = []\n",
    "\n",
    "d = { \"Longitude\" : [],\n",
    "     \"Latitude\" : [],\n",
    "     \"Points\" : []\n",
    "}\n",
    "for i in range (num_samples):\n",
    "    d[\"Longitude\"].append(round(random.uniform(-101, -95), 2))\n",
    "    d[\"Latitude\"].append(round(random.uniform(31,34), 2))\n",
    "    d[\"Points\"].append(random.randint(1, 100))\n",
    "\n",
    "print(d)\n",
    "df = pd.DataFrame(d)\n",
    "\n",
    "#print(df)\n",
    "df.to_csv(\"test.csv\", index = False)"
   ]
  },
  {
   "cell_type": "code",
   "execution_count": 59,
   "metadata": {},
   "outputs": [
    {
     "name": "stdout",
     "output_type": "stream",
     "text": [
      "{'Longitude': [-97.33, -96.79, -96.82], 'Latitude': [32.76, 32.78, 33.15], 'Points': [750, 500, 1000]}\n"
     ]
    }
   ],
   "source": [
    "d = {\"Longitude\" : [-97.33, -96.79, -96.82],\n",
    "                   \"Latitude\" : [32.76, 32.78, 33.15],\n",
    "                    \"Points\" : [750, 500, 1000]\n",
    "                  }\n",
    "print(d)\n",
    "df = pd.DataFrame(d)\n",
    "df.to_csv(\"test2.csv\", index = False)"
   ]
  },
  {
   "cell_type": "code",
   "execution_count": null,
   "metadata": {},
   "outputs": [],
   "source": []
  }
 ],
 "metadata": {
  "kernelspec": {
   "display_name": "Python 3",
   "language": "python",
   "name": "python3"
  },
  "language_info": {
   "codemirror_mode": {
    "name": "ipython",
    "version": 3
   },
   "file_extension": ".py",
   "mimetype": "text/x-python",
   "name": "python",
   "nbconvert_exporter": "python",
   "pygments_lexer": "ipython3",
   "version": "3.7.6"
  }
 },
 "nbformat": 4,
 "nbformat_minor": 4
}
